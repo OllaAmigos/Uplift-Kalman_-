{
 "cells": [
  {
   "cell_type": "code",
   "execution_count": 14,
   "id": "969ada07-d0e6-4e5d-a2e5-9144eb419ff4",
   "metadata": {},
   "outputs": [],
   "source": [
    "import pandas as pd\n",
    "import numpy as np"
   ]
  },
  {
   "cell_type": "markdown",
   "id": "ba4e4a39-d523-41b3-833b-1b38944344d2",
   "metadata": {},
   "source": [
    "Доступные данные:\n",
    "- data/clients.csv — информация о клиентах\n",
    "- data/products.csv — информация о товарах\n",
    "- data/purchases.csv — история покупок клиентов до смс кампании\n",
    "- data/uplift_train.csv — обучающая выборка клиентов, информация о коммуникации и конверсии\n",
    "- data/uplift_test.csv — тестовые клиенты, для которых необходимо оценить uplift"
   ]
  },
  {
   "cell_type": "code",
   "execution_count": 19,
   "id": "fbbff793-a61b-46fb-a091-3bd4f7529719",
   "metadata": {
    "scrolled": true
   },
   "outputs": [],
   "source": [
    "clients = pd.read_csv('./large_data/init_data//clients.csv')\n",
    "products = pd.read_csv('./large_data/init_data/products.csv')\n",
    "purchases = pd.read_csv('./large_data/init_data/purchases.csv')"
   ]
  },
  {
   "cell_type": "code",
   "execution_count": 21,
   "id": "004f7097-724e-4ce7-b780-c7316578c73f",
   "metadata": {},
   "outputs": [],
   "source": [
    "aov_per_user = purchases[['client_id', 'transaction_id', 'purchase_sum']].drop_duplicates()\\\n",
    "                                                                         .groupby('client_id', as_index=False)\\\n",
    "                                                                         .purchase_sum.mean()"
   ]
  },
  {
   "cell_type": "code",
   "execution_count": 22,
   "id": "0d015a2e-14ea-4001-a462-1debac1ceb70",
   "metadata": {},
   "outputs": [],
   "source": [
    "clients['city_type'] = (aov_per_user.purchase_sum >= aov_per_user.purchase_sum.median()).astype(int)"
   ]
  },
  {
   "cell_type": "code",
   "execution_count": 23,
   "id": "34f2787c-877f-4f73-a919-83e198867ecb",
   "metadata": {},
   "outputs": [
    {
     "data": {
      "text/plain": [
       "city_type\n",
       "0    261.696667\n",
       "1    609.185238\n",
       "Name: purchase_sum, dtype: float64"
      ]
     },
     "execution_count": 23,
     "metadata": {},
     "output_type": "execute_result"
    }
   ],
   "source": [
    "aov_per_user.merge(clients[['client_id', 'city_type']], on = 'client_id').groupby('city_type').purchase_sum.median() # средние aov по клиентам"
   ]
  },
  {
   "cell_type": "code",
   "execution_count": 57,
   "id": "45026600-6982-459f-bc0d-640d4d8d962c",
   "metadata": {
    "scrolled": true
   },
   "outputs": [],
   "source": [
    "clients.to_csv('./large_data/raw_data/clients.csv', index=False)"
   ]
  },
  {
   "cell_type": "markdown",
   "id": "97d65e20-38fa-46d3-a6e7-cda6d5e528ca",
   "metadata": {},
   "source": [
    "**Делим на rich и poor**"
   ]
  },
  {
   "cell_type": "code",
   "execution_count": 26,
   "id": "e6c973b1-98a0-43cf-84f5-ab9b4361a0e0",
   "metadata": {},
   "outputs": [],
   "source": [
    "purchases = purchases.merge(clients.drop(columns = ['first_issue_date', 'first_redeem_date']), on = 'client_id')"
   ]
  },
  {
   "cell_type": "markdown",
   "id": "24fac5ec-c80e-475e-aacc-8d69dfe2c377",
   "metadata": {},
   "source": [
    "**Делим на Treatment и Control**"
   ]
  },
  {
   "cell_type": "code",
   "execution_count": 28,
   "id": "993276d4-0025-47e0-850d-39dab1a3d2a5",
   "metadata": {},
   "outputs": [],
   "source": [
    "def split_by_client_id(df):\n",
    "    unique_clients = df['client_id'].unique()\n",
    "\n",
    "    np.random.shuffle(unique_clients)\n",
    "\n",
    "    split_idx = len(unique_clients) // 2\n",
    "    clients_group_0 = unique_clients[:split_idx]\n",
    "    clients_group_1 = unique_clients[split_idx:]\n",
    "\n",
    "    df['treatment_flg'] = -1\n",
    "\n",
    "    df.loc[df['client_id'].isin(clients_group_0), 'treatment_flg'] = 0\n",
    "    df.loc[df['client_id'].isin(clients_group_1), 'treatment_flg'] = 1\n",
    "    \n",
    "    # посчитаем колличество\n",
    "    count_group_0 = df[df['treatment_flg'] == 0]['client_id'].nunique()\n",
    "    count_group_1 = df[df['treatment_flg'] == 1]['client_id'].nunique()\n",
    "\n",
    "    print(f\"Количество клиентов в группе 0: {count_group_0}\")\n",
    "    print(f\"Количество клиентов в группе 1: {count_group_1}\")\n",
    "\n",
    "    return df\n"
   ]
  },
  {
   "cell_type": "code",
   "execution_count": 29,
   "id": "ce4e4d60-a775-4f66-aa14-98ccf6fe633e",
   "metadata": {},
   "outputs": [
    {
     "name": "stderr",
     "output_type": "stream",
     "text": [
      "/var/folders/t0/4q3bn69d7nzbpxs2hdjgt76m0000gn/T/ipykernel_16048/1474479650.py:10: SettingWithCopyWarning: \n",
      "A value is trying to be set on a copy of a slice from a DataFrame.\n",
      "Try using .loc[row_indexer,col_indexer] = value instead\n",
      "\n",
      "See the caveats in the documentation: https://pandas.pydata.org/pandas-docs/stable/user_guide/indexing.html#returning-a-view-versus-a-copy\n",
      "  df['treatment_flg'] = -1\n"
     ]
    },
    {
     "name": "stdout",
     "output_type": "stream",
     "text": [
      "Количество клиентов в группе 0: 100040\n",
      "Количество клиентов в группе 1: 100041\n"
     ]
    },
    {
     "name": "stderr",
     "output_type": "stream",
     "text": [
      "/var/folders/t0/4q3bn69d7nzbpxs2hdjgt76m0000gn/T/ipykernel_16048/1474479650.py:10: SettingWithCopyWarning: \n",
      "A value is trying to be set on a copy of a slice from a DataFrame.\n",
      "Try using .loc[row_indexer,col_indexer] = value instead\n",
      "\n",
      "See the caveats in the documentation: https://pandas.pydata.org/pandas-docs/stable/user_guide/indexing.html#returning-a-view-versus-a-copy\n",
      "  df['treatment_flg'] = -1\n"
     ]
    },
    {
     "name": "stdout",
     "output_type": "stream",
     "text": [
      "Количество клиентов в группе 0: 100040\n",
      "Количество клиентов в группе 1: 100041\n"
     ]
    }
   ],
   "source": [
    "rich = split_by_client_id(purchases.query('city_type == 1'))\n",
    "poor = split_by_client_id(purchases.query('city_type == 0'))"
   ]
  },
  {
   "cell_type": "code",
   "execution_count": 55,
   "id": "a07988ec-d81b-4314-a542-d38d4a77b353",
   "metadata": {},
   "outputs": [],
   "source": [
    "rich.to_csv('./large_data/raw_data/rich_raw.csv', index=False)\n",
    "poor.to_csv('./large_data/raw_data/poor_raw.csv', index=False)"
   ]
  },
  {
   "cell_type": "code",
   "execution_count": null,
   "id": "5859e00e-9cdf-4fb1-bf93-c91313ee9f44",
   "metadata": {},
   "outputs": [],
   "source": []
  }
 ],
 "metadata": {
  "kernelspec": {
   "display_name": "Python 3 (ipykernel)",
   "language": "python",
   "name": "python3"
  },
  "language_info": {
   "codemirror_mode": {
    "name": "ipython",
    "version": 3
   },
   "file_extension": ".py",
   "mimetype": "text/x-python",
   "name": "python",
   "nbconvert_exporter": "python",
   "pygments_lexer": "ipython3",
   "version": "3.12.4"
  }
 },
 "nbformat": 4,
 "nbformat_minor": 5
}
