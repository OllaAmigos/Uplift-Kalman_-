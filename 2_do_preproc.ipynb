{
 "cells": [
  {
   "cell_type": "code",
   "execution_count": 5,
   "id": "cceaf4e1-5c27-4ac8-b7f0-2cd741339759",
   "metadata": {},
   "outputs": [],
   "source": [
    "import pandas as pd\n",
    "import numpy as np\n",
    "import tqdm\n",
    "import scipy.stats as sts"
   ]
  },
  {
   "cell_type": "code",
   "execution_count": 7,
   "id": "bba660ff-3093-46c5-9a33-4a9106a61da6",
   "metadata": {},
   "outputs": [],
   "source": [
    "features = pd.read_csv('./large_data/output_data/final_dfdiouuy.csv')\n",
    "clients = pd.read_csv('./large_data/raw_data/clients.csv', index_col=0)"
   ]
  },
  {
   "cell_type": "code",
   "execution_count": 11,
   "id": "87ddc6c5-f4c8-497f-9dc3-ab315b039eb2",
   "metadata": {},
   "outputs": [],
   "source": [
    "poor = pd.read_csv('./large_data/raw_data/poor_raw.csv')\n",
    "rich = pd.read_csv('./large_data/raw_data/rich_raw.csv')\n",
    "\n",
    "total_df = pd.concat([poor, rich])\n",
    "\n",
    "del poor\n",
    "del rich"
   ]
  },
  {
   "cell_type": "code",
   "execution_count": 12,
   "id": "a254ab8f-e99f-43c9-b926-55fc9819ba4b",
   "metadata": {},
   "outputs": [],
   "source": [
    "total_df = total_df[[\n",
    "    'client_id', 'transaction_id',\n",
    "    'transaction_datetime', 'purchase_sum',\n",
    "    'age', 'gender',\n",
    "    'treatment_flg', 'city_type',\n",
    "]].drop_duplicates()"
   ]
  },
  {
   "cell_type": "code",
   "execution_count": 13,
   "id": "414391f7-11fd-4a38-9e76-e4262dc96f90",
   "metadata": {},
   "outputs": [],
   "source": [
    "total_df['transaction_datetime'] = pd.to_datetime(total_df['transaction_datetime']).dt.date"
   ]
  },
  {
   "cell_type": "markdown",
   "id": "df6b4c66-72cc-4624-8bf7-c66823c2dbea",
   "metadata": {},
   "source": [
    "**разбиваем фичу с полом**"
   ]
  },
  {
   "cell_type": "code",
   "execution_count": 14,
   "id": "fb5e481d-24e0-47e6-850e-3a4a11ca27d7",
   "metadata": {},
   "outputs": [],
   "source": [
    "total_df['female'] = (total_df.gender == 'F').astype(int)\n",
    "total_df['male'] = (total_df.gender == 'M').astype(int)\n",
    "\n",
    "total_df.drop(columns=['gender'], inplace=True)"
   ]
  },
  {
   "cell_type": "markdown",
   "id": "606c704c-671c-498a-acac-d33a04389ef3",
   "metadata": {},
   "source": [
    "**процессинг тагрета**"
   ]
  },
  {
   "cell_type": "code",
   "execution_count": 15,
   "id": "7d88afc6-45b2-4c10-aff4-fbb42142c5bd",
   "metadata": {},
   "outputs": [],
   "source": [
    "def modify_products(row):\n",
    "    ''' Функция для зашумления людей из богатого города, на которых разослали коммуникацию'''\n",
    "    \n",
    "    if (row['treatment_flg'] == 1) & (row['city_type'] == 1):\n",
    "        # Генерируем экспоненциальную случайную величину с матожиданием row['age']\n",
    "        exp_value = np.random.exponential(5*abs(row['age']))\n",
    "        return row['purchase_sum'] + exp_value\n",
    "    return row['purchase_sum']\n",
    "\n",
    "# Применяем функцию по строкам DataFrame\n",
    "total_df['purchase_sum'] = total_df.apply(modify_products, axis=1)"
   ]
  },
  {
   "cell_type": "code",
   "execution_count": 16,
   "id": "bf480546-3cde-40b8-b7a1-2601b1ce1a05",
   "metadata": {},
   "outputs": [],
   "source": [
    "total_df = total_df.groupby(['client_id', 'transaction_datetime'], as_index=False).agg({\n",
    "    'purchase_sum':'sum',\n",
    "    'treatment_flg':'mean',\n",
    "    'city_type':'mean',\n",
    "    'female':'mean',\n",
    "    'male':'mean',\n",
    "})\n",
    "total_df.rename(columns={'transaction_datetime':'transaction_date'}, inplace=True)"
   ]
  },
  {
   "cell_type": "code",
   "execution_count": 17,
   "id": "c191a0a8-e3df-4b66-aa8d-65932303fffc",
   "metadata": {},
   "outputs": [
    {
     "name": "stdout",
     "output_type": "stream",
     "text": [
      "<class 'pandas.core.frame.DataFrame'>\n",
      "RangeIndex: 7145662 entries, 0 to 7145661\n",
      "Data columns (total 7 columns):\n",
      " #   Column            Dtype  \n",
      "---  ------            -----  \n",
      " 0   client_id         object \n",
      " 1   transaction_date  object \n",
      " 2   purchase_sum      float64\n",
      " 3   treatment_flg     float64\n",
      " 4   city_type         float64\n",
      " 5   female            float64\n",
      " 6   male              float64\n",
      "dtypes: float64(5), object(2)\n",
      "memory usage: 381.6+ MB\n"
     ]
    }
   ],
   "source": [
    "total_df.info()"
   ]
  },
  {
   "cell_type": "code",
   "execution_count": 18,
   "id": "103f9555-7691-4ddb-be93-b7aca74d0f1a",
   "metadata": {},
   "outputs": [],
   "source": [
    "res_data = pd.concat([features, total_df.drop(columns=['client_id','client_id'])],axis=1)"
   ]
  },
  {
   "cell_type": "markdown",
   "id": "1dec5463-c952-4dc7-9203-8a5f9e78602a",
   "metadata": {},
   "source": [
    "**собираем красивую панель**"
   ]
  },
  {
   "cell_type": "code",
   "execution_count": 19,
   "id": "ca210373-bcb8-4653-91ef-71a3d4bb900a",
   "metadata": {},
   "outputs": [],
   "source": [
    "res_data = res_data[[\n",
    "    'client_id','transaction_date',\n",
    "    'city_type','treatment_flg',\n",
    "    'age', 'female', 'male',\n",
    "    'purchase_sum','avg_product_quantity', \n",
    "    'total_products', 'ch_avg_purchase',\n",
    "    'unique_segments', 'unique_brands', \n",
    "    'alcohol_percentage','own_trademark_percentage',\n",
    "]]"
   ]
  },
  {
   "cell_type": "code",
   "execution_count": 20,
   "id": "f921710a-287a-4928-ab0a-b0c2ce4e4fd5",
   "metadata": {},
   "outputs": [],
   "source": [
    "res_data.to_csv('./large_data/intermediate_data/panel_data.csv')"
   ]
  }
 ],
 "metadata": {
  "kernelspec": {
   "display_name": "Python 3 (ipykernel)",
   "language": "python",
   "name": "python3"
  },
  "language_info": {
   "codemirror_mode": {
    "name": "ipython",
    "version": 3
   },
   "file_extension": ".py",
   "mimetype": "text/x-python",
   "name": "python",
   "nbconvert_exporter": "python",
   "pygments_lexer": "ipython3",
   "version": "3.12.4"
  }
 },
 "nbformat": 4,
 "nbformat_minor": 5
}
